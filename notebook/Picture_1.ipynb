{
 "cells": [
  {
   "cell_type": "code",
   "execution_count": 1,
   "metadata": {},
   "outputs": [],
   "source": [
    "import matplotlib.pyplot as plt"
   ]
  },
  {
   "cell_type": "code",
   "execution_count": null,
   "metadata": {},
   "outputs": [],
   "source": [
    "\"\"\"\n",
    "{\n",
    "    'items': [\n",
    "    {\n",
    "        'x': [1, 2, 3, 4],\n",
    "        'y': [4, 7, 3, 9],\n",
    "        'legend': 'prueba',\n",
    "        'linestyle': 'o'\n",
    "    },\n",
    "    {\n",
    "        'x': [1, 2, 3, 4],\n",
    "        'y': [5, 5, 5, 5],\n",
    "        'legend': 'prueba2',\n",
    "        'linestyle': '-'\n",
    "    }\n",
    "    ],\n",
    "    'title': 'Hola soy el titulo',\n",
    "    'xlabel': 'Tiempo',\n",
    "    'ylabel': 'Posicion',\n",
    "}\n",
    "\"\"\"\n",
    "class Picture:\n",
    "\n",
    "    def __init__(self, params=None):\n",
    "        plt.figure()\n",
    "        plt.grid()\n",
    "        \n",
    "        if params.get('title'):\n",
    "            plt.title(params['title'])\n",
    "        \n",
    "        if params.get('xlabel'):\n",
    "            plt.xlabel(params['xlabel'])\n",
    "            \n",
    "        if params.get('ylabel'):\n",
    "            plt.ylabel(params['ylabel'])\n",
    "            \n",
    "        for item in params.get('items', []):\n",
    "            self.add_item(item)\n",
    "                \n",
    "    \n",
    "    def add_item(self, item):\n",
    "        plt.plot(\n",
    "                item['x'],\n",
    "                item['y'],\n",
    "                label='' if not item.get('legend') else item['legend']\n",
    "                linestyle='-' if not item.get('linestyle') else item['linestyle']\n",
    "            )\n",
    "    \n",
    "    def show_plot():\n",
    "        plt.legend()\n",
    "        plt.show()"
   ]
  }
 ],
 "metadata": {
  "kernelspec": {
   "display_name": "Python 2",
   "language": "python",
   "name": "python2"
  },
  "language_info": {
   "codemirror_mode": {
    "name": "ipython",
    "version": 2
   },
   "file_extension": ".py",
   "mimetype": "text/x-python",
   "name": "python",
   "nbconvert_exporter": "python",
   "pygments_lexer": "ipython2",
   "version": "2.7.15"
  }
 },
 "nbformat": 4,
 "nbformat_minor": 2
}
